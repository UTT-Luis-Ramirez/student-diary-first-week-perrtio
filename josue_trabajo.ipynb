{
  "nbformat": 4,
  "nbformat_minor": 0,
  "metadata": {
    "colab": {
      "provenance": []
    },
    "kernelspec": {
      "name": "python3",
      "display_name": "Python 3"
    },
    "language_info": {
      "name": "python"
    }
  },
  "cells": [
    {
      "cell_type": "markdown",
      "source": [
        "07/01/25\n",
        "¿que se?      |           ¿que deseo saber?                      | ¿que aprendi?\n",
        "\n",
        "- estadistica: se podria decir que es un conjunto de informacion\n",
        " (recolectar informacion) de sucesos o cosas.\n",
        "- dato: informacion sobre algo en especifico\n",
        "- teoria de conjuntos: se podria decir que estudia los grupos de cosas\n",
        "- axiomas: es algo que se admite sin comprobarlo\n",
        "- probabilidad: que tan probable ocurra algo\n",
        "- evento: posibilidades de que pase una cosa o otra"
      ],
      "metadata": {
        "id": "gy4wKT4iDuhs"
      }
    },
    {
      "cell_type": "markdown",
      "source": [
        "07/01/25\n",
        "\n",
        "\n",
        "Estadística\n",
        "\n",
        "La estadística se divide en dos áreas: estadística descriptiva e inferencial.\n",
        "\n",
        "Estadística Descriptiva\n",
        "La estadística descriptiva se encarga de describir, organizar y presentar los datos de manera comprensible. Utiliza herramientas como las medidas centrales, las medidas de dispersión y los gráficos para hacer un análisis de los datos.\n",
        "hay una serie de pasos para realizar una estadistica descriptiva los cuales son:\n",
        "\n",
        "- recoleccion y organizacion de la informacion.\n",
        "- calculo de medidas descriptivas.\n",
        "- Presentacion de los datos.\n",
        "- Analisis de identificacion de patrones y relaciones.\n",
        "\n",
        "Medidas centrales: Nos ayudan a identificar el valor representativo de un conjunto de datos. Incluyen la media, la mediana y la moda.\n",
        "Medidas de dispersión: Permiten comprender la variabilidad de los datos. Se utilizan el rango, la varianza y la desviación estándar.\n",
        "Gráficos: Son representaciones visuales que facilitan la interpretación de los datos, como histogramas, diagramas de barras o diagramas de dispersión.\n",
        "\n",
        "La estadística descriptiva nos permite identificar patrones y obtener un análisis detallado y preciso de los datos, asi proporcionándonos una visión clara de las características del conjunto de datos.\n",
        "\n",
        "Estadística Inferencial\n",
        "Por otro lado, la estadística inferencial se enfoca en hacer predicciones sobre una población a partir de una muestra. el objetivo es tomar decisiones y hacer conclusiones en base de los datos obtenidos, hay una serie de pasos los cuales son:\n",
        "\n",
        "- Estimación de parámetros: Implica utilizar los datos de la muestra para estimar los parámetros de la población.\n",
        "- Prueba de hipótesis: Se plantea una suposición sobre la población y se evalúa su validez mediante pruebas estadísticas.\n",
        "- Intervalos de confianza: Establecen un rango de valores dentro del cual es probable que se encuentre el parámetro de la población.\n",
        "- Modelado estadístico: Utiliza diferentes modelos matemáticos y estadísticos para predecir comportamientos o analizar relaciones entre variables."
      ],
      "metadata": {
        "id": "7oYQng2n_lnS"
      }
    },
    {
      "cell_type": "markdown",
      "source": [
        "07/01/25\n",
        "en nuestro equipo nos toco la problematica del trafico de red, identificamos varios patrones y usamos de ejemplo una pagina web llamada becabenitojuarez, uno de los patrones que identificamos es que cada vez que dan beca la pagina se sobrecarga lo cual identificamos que si aun tarda en cargar y esta fuera de horario podria ser un replay attack o otros ciberataques"
      ],
      "metadata": {
        "id": "cIRoEPfJEWtr"
      }
    }
  ]
}